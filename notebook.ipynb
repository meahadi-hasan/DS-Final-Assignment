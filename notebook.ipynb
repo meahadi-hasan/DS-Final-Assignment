{
  "metadata": {
    "kernelspec": {
      "name": "python",
      "display_name": "Python (Pyodide)",
      "language": "python"
    },
    "language_info": {
      "codemirror_mode": {
        "name": "python",
        "version": 3
      },
      "file_extension": ".py",
      "mimetype": "text/x-python",
      "name": "python",
      "nbconvert_exporter": "python",
      "pygments_lexer": "ipython3",
      "version": "3.8"
    }
  },
  "nbformat_minor": 5,
  "nbformat": 4,
  "cells": [
    {
      "id": "b87f5a86-09c0-417a-833d-0c39450c1bbd",
      "cell_type": "markdown",
      "source": "# Final Project Submission\n## Introduction\nThis notebook is created to demonstrate various Data Science tools and techniques.\n## Data Science Languages\n1. Python\n2. R\n3. SQL\n4. Julia\n## Data Science Libraries\n- NumPy\n- Pandas\n- Matplotlib\n- TensorFlow\n## Data Science Tools\n| Tool         | Description                   |\n|--------------|-------------------------------|\n| Jupyter      | Interactive computing         |\n| RStudio      | Statistical computing         |\n| Apache Spark | Big data processing framework |\n## Arithmetic Operations\nBelow are examples of basic arithmetic operations.\n# Multiply and Add Example\na = 5\nb = 3\nprint(a * b + b)\n# Convert Minutes to Hours\nminutes = 120\nhours = minutes / 60\nprint(f\"{minutes} minutes is equal to {hours} hours.\")\n## Objectives\n- List popular languages for Data Science.\n- Demonstrate basic arithmetic operations.\n- Share the notebook publicly.\n## Author\nJohn Doe\n",
      "metadata": {}
    }
  ]
}